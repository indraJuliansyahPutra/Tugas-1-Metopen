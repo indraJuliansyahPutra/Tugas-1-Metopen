{
 "cells": [
  {
   "cell_type": "code",
   "execution_count": 1,
   "metadata": {},
   "outputs": [],
   "source": [
    "import pickle\n",
    "import pandas as pd\n",
    "import matplotlib.pyplot as plt\n",
    "import re\n",
    "import numpy as np\n",
    "import seaborn as sns\n",
    "from sklearn import preprocessing\n",
    "from sklearn.model_selection import train_test_split\n",
    "from sklearn.feature_extraction.text import TfidfVectorizer\n",
    "from sklearn.feature_selection import SelectKBest\n",
    "from sklearn.feature_selection import chi2\n",
    "from sklearn import svm\n",
    "from sklearn.metrics import classification_report, precision_score, recall_score, f1_score, accuracy_score\n",
    "from sklearn.metrics import confusion_matrix"
   ]
  },
  {
   "cell_type": "code",
   "execution_count": 2,
   "metadata": {},
   "outputs": [
    {
     "data": {
      "text/html": [
       "<div>\n",
       "<style scoped>\n",
       "    .dataframe tbody tr th:only-of-type {\n",
       "        vertical-align: middle;\n",
       "    }\n",
       "\n",
       "    .dataframe tbody tr th {\n",
       "        vertical-align: top;\n",
       "    }\n",
       "\n",
       "    .dataframe thead th {\n",
       "        text-align: right;\n",
       "    }\n",
       "</style>\n",
       "<table border=\"1\" class=\"dataframe\">\n",
       "  <thead>\n",
       "    <tr style=\"text-align: right;\">\n",
       "      <th></th>\n",
       "      <th>Id</th>\n",
       "      <th>Sentiment</th>\n",
       "      <th>Pasangan Calon</th>\n",
       "      <th>Text Tweet</th>\n",
       "    </tr>\n",
       "  </thead>\n",
       "  <tbody>\n",
       "    <tr>\n",
       "      <th>0</th>\n",
       "      <td>1</td>\n",
       "      <td>negative</td>\n",
       "      <td>Agus-Sylvi</td>\n",
       "      <td>Banyak akun kloning seolah2 pendukung #agussil...</td>\n",
       "    </tr>\n",
       "    <tr>\n",
       "      <th>1</th>\n",
       "      <td>2</td>\n",
       "      <td>negative</td>\n",
       "      <td>Agus-Sylvi</td>\n",
       "      <td>#agussilvy bicara apa kasihan yaa...lap itu ai...</td>\n",
       "    </tr>\n",
       "    <tr>\n",
       "      <th>2</th>\n",
       "      <td>3</td>\n",
       "      <td>negative</td>\n",
       "      <td>Agus-Sylvi</td>\n",
       "      <td>Kalau aku sih gak nunggu hasil akhir QC tp lag...</td>\n",
       "    </tr>\n",
       "    <tr>\n",
       "      <th>3</th>\n",
       "      <td>4</td>\n",
       "      <td>negative</td>\n",
       "      <td>Agus-Sylvi</td>\n",
       "      <td>Kasian oh kasian dengan peluru 1milyar untuk t...</td>\n",
       "    </tr>\n",
       "    <tr>\n",
       "      <th>4</th>\n",
       "      <td>5</td>\n",
       "      <td>negative</td>\n",
       "      <td>Agus-Sylvi</td>\n",
       "      <td>Maaf ya pendukung #AgusSilvy..hayo dukung #Ani...</td>\n",
       "    </tr>\n",
       "  </tbody>\n",
       "</table>\n",
       "</div>"
      ],
      "text/plain": [
       "   Id Sentiment Pasangan Calon  \\\n",
       "0   1  negative     Agus-Sylvi   \n",
       "1   2  negative     Agus-Sylvi   \n",
       "2   3  negative     Agus-Sylvi   \n",
       "3   4  negative     Agus-Sylvi   \n",
       "4   5  negative     Agus-Sylvi   \n",
       "\n",
       "                                          Text Tweet  \n",
       "0  Banyak akun kloning seolah2 pendukung #agussil...  \n",
       "1  #agussilvy bicara apa kasihan yaa...lap itu ai...  \n",
       "2  Kalau aku sih gak nunggu hasil akhir QC tp lag...  \n",
       "3  Kasian oh kasian dengan peluru 1milyar untuk t...  \n",
       "4  Maaf ya pendukung #AgusSilvy..hayo dukung #Ani...  "
      ]
     },
     "execution_count": 2,
     "metadata": {},
     "output_type": "execute_result"
    }
   ],
   "source": [
    "file_dataset = 'dataset_tweet_sentiment_pilkada_DKI_2017.csv'\n",
    "\n",
    "data = pd.read_csv(file_dataset)\n",
    "\n",
    "data.head()"
   ]
  },
  {
   "cell_type": "code",
   "execution_count": 3,
   "metadata": {},
   "outputs": [
    {
     "name": "stdout",
     "output_type": "stream",
     "text": [
      "<class 'pandas.core.frame.DataFrame'>\n",
      "RangeIndex: 900 entries, 0 to 899\n",
      "Data columns (total 4 columns):\n",
      " #   Column          Non-Null Count  Dtype \n",
      "---  ------          --------------  ----- \n",
      " 0   Id              900 non-null    int64 \n",
      " 1   Sentiment       900 non-null    object\n",
      " 2   Pasangan Calon  900 non-null    object\n",
      " 3   Text Tweet      900 non-null    object\n",
      "dtypes: int64(1), object(3)\n",
      "memory usage: 28.2+ KB\n"
     ]
    }
   ],
   "source": [
    "data.info()"
   ]
  },
  {
   "cell_type": "code",
   "execution_count": 4,
   "metadata": {},
   "outputs": [
    {
     "name": "stdout",
     "output_type": "stream",
     "text": [
      "Jumlah Data Berdasarkan Pasangan Calon:  Pasangan Calon\n",
      "Agus-Sylvi     300\n",
      "Ahok-Djarot    300\n",
      "Anies-Sandi    300\n",
      "dtype: int64\n",
      "\n",
      " Jumlah Data Sentiment Positive Pasangan Calon\n",
      "Agus-Sylvi     150\n",
      "Ahok-Djarot    150\n",
      "Anies-Sandi    150\n",
      "dtype: int64\n",
      "\n",
      " Jumlah Data Sentiment Negative Pasangan Calon\n",
      "Agus-Sylvi     150\n",
      "Ahok-Djarot    150\n",
      "Anies-Sandi    150\n",
      "dtype: int64\n"
     ]
    }
   ],
   "source": [
    "print(\"Jumlah Data Berdasarkan Pasangan Calon: \", data.groupby(\"Pasangan Calon\").size())\n",
    "\n",
    "dp = data.query(\"Sentiment == 'positive'\")\n",
    "dn = data.query(\"Sentiment == 'negative'\")\n",
    "print(\"\\n Jumlah Data Sentiment Positive\", dp.groupby(\"Pasangan Calon\").size())\n",
    "print(\"\\n Jumlah Data Sentiment Negative\", dn.groupby(\"Pasangan Calon\").size())"
   ]
  },
  {
   "cell_type": "code",
   "execution_count": 5,
   "metadata": {},
   "outputs": [
    {
     "data": {
      "image/png": "[encoded data removed]",
      "text/plain": [
       "<Figure size 640x480 with 1 Axes>"
      ]
     },
     "metadata": {},
     "output_type": "display_data"
    }
   ],
   "source": [
    "data['Sentiment'].value_counts().plot(kind = \"bar\")\n",
    "plt.show()"
   ]
  },
  {
   "cell_type": "code",
   "execution_count": 6,
   "metadata": {},
   "outputs": [
    {
     "data": {
      "text/html": [
       "<div>\n",
       "<style scoped>\n",
       "    .dataframe tbody tr th:only-of-type {\n",
       "        vertical-align: middle;\n",
       "    }\n",
       "\n",
       "    .dataframe tbody tr th {\n",
       "        vertical-align: top;\n",
       "    }\n",
       "\n",
       "    .dataframe thead th {\n",
       "        text-align: right;\n",
       "    }\n",
       "</style>\n",
       "<table border=\"1\" class=\"dataframe\">\n",
       "  <thead>\n",
       "    <tr style=\"text-align: right;\">\n",
       "      <th></th>\n",
       "      <th>Text Tweet</th>\n",
       "      <th>text_clean</th>\n",
       "    </tr>\n",
       "  </thead>\n",
       "  <tbody>\n",
       "    <tr>\n",
       "      <th>0</th>\n",
       "      <td>Banyak akun kloning seolah2 pendukung #agussil...</td>\n",
       "      <td>banyak akun kloning seolah2 pendukung agussilv...</td>\n",
       "    </tr>\n",
       "    <tr>\n",
       "      <th>1</th>\n",
       "      <td>#agussilvy bicara apa kasihan yaa...lap itu ai...</td>\n",
       "      <td>agussilvy bicara apa kasihan yaa lap itu air m...</td>\n",
       "    </tr>\n",
       "    <tr>\n",
       "      <th>2</th>\n",
       "      <td>Kalau aku sih gak nunggu hasil akhir QC tp lag...</td>\n",
       "      <td>kalau aku sih gak nunggu hasil akhir qc tp lag...</td>\n",
       "    </tr>\n",
       "    <tr>\n",
       "      <th>3</th>\n",
       "      <td>Kasian oh kasian dengan peluru 1milyar untuk t...</td>\n",
       "      <td>kasian oh kasian dengan peluru 1milyar untuk t...</td>\n",
       "    </tr>\n",
       "    <tr>\n",
       "      <th>4</th>\n",
       "      <td>Maaf ya pendukung #AgusSilvy..hayo dukung #Ani...</td>\n",
       "      <td>maaf ya pendukung agussilvy hayo dukung aniess...</td>\n",
       "    </tr>\n",
       "    <tr>\n",
       "      <th>...</th>\n",
       "      <td>...</td>\n",
       "      <td>...</td>\n",
       "    </tr>\n",
       "    <tr>\n",
       "      <th>895</th>\n",
       "      <td>Kali saja bpk @aniesbaswedan @sandiuno lihat, ...</td>\n",
       "      <td>kali saja bpk aniesbaswedan sandiuno lihat lag...</td>\n",
       "    </tr>\n",
       "    <tr>\n",
       "      <th>896</th>\n",
       "      <td>Kita harus dapat merangkul semua orang tanpa b...</td>\n",
       "      <td>kita harus dapat merangkul semua orang tanpa b...</td>\n",
       "    </tr>\n",
       "    <tr>\n",
       "      <th>897</th>\n",
       "      <td>Ini jagoanku dibidang digital &lt;Smiling Face Wi...</td>\n",
       "      <td>ini jagoanku dibidang digital smiling face wit...</td>\n",
       "    </tr>\n",
       "    <tr>\n",
       "      <th>898</th>\n",
       "      <td>#PesanBijak #OkeOce #GubernurGu3 ...</td>\n",
       "      <td>pesanbijak okeoce gubernurgu3</td>\n",
       "    </tr>\n",
       "    <tr>\n",
       "      <th>899</th>\n",
       "      <td>Sandiaga: Bangun Rumah DP 0% Lebih Simpel Diba...</td>\n",
       "      <td>sandiaga bangun rumah dp 0 lebih simpel diband...</td>\n",
       "    </tr>\n",
       "  </tbody>\n",
       "</table>\n",
       "<p>900 rows × 2 columns</p>\n",
       "</div>"
      ],
      "text/plain": [
       "                                            Text Tweet  \\\n",
       "0    Banyak akun kloning seolah2 pendukung #agussil...   \n",
       "1    #agussilvy bicara apa kasihan yaa...lap itu ai...   \n",
       "2    Kalau aku sih gak nunggu hasil akhir QC tp lag...   \n",
       "3    Kasian oh kasian dengan peluru 1milyar untuk t...   \n",
       "4    Maaf ya pendukung #AgusSilvy..hayo dukung #Ani...   \n",
       "..                                                 ...   \n",
       "895  Kali saja bpk @aniesbaswedan @sandiuno lihat, ...   \n",
       "896  Kita harus dapat merangkul semua orang tanpa b...   \n",
       "897  Ini jagoanku dibidang digital <Smiling Face Wi...   \n",
       "898               #PesanBijak #OkeOce #GubernurGu3 ...   \n",
       "899  Sandiaga: Bangun Rumah DP 0% Lebih Simpel Diba...   \n",
       "\n",
       "                                            text_clean  \n",
       "0    banyak akun kloning seolah2 pendukung agussilv...  \n",
       "1    agussilvy bicara apa kasihan yaa lap itu air m...  \n",
       "2    kalau aku sih gak nunggu hasil akhir qc tp lag...  \n",
       "3    kasian oh kasian dengan peluru 1milyar untuk t...  \n",
       "4    maaf ya pendukung agussilvy hayo dukung aniess...  \n",
       "..                                                 ...  \n",
       "895  kali saja bpk aniesbaswedan sandiuno lihat lag...  \n",
       "896  kita harus dapat merangkul semua orang tanpa b...  \n",
       "897  ini jagoanku dibidang digital smiling face wit...  \n",
       "898                      pesanbijak okeoce gubernurgu3  \n",
       "899  sandiaga bangun rumah dp 0 lebih simpel diband...  \n",
       "\n",
       "[900 rows x 2 columns]"
      ]
     },
     "execution_count": 6,
     "metadata": {},
     "output_type": "execute_result"
    }
   ],
   "source": [
    "def remove_at_hash(sent):\n",
    "    return re.sub(r'@|#', r'', sent.lower())\n",
    "\n",
    "def remove_sites(sent):\n",
    "    return re.sub(r'http.*', r'', sent.lower())\n",
    "\n",
    "def remove_punct(sent):\n",
    "    return ' '.join(re.findall(r'\\w+', sent.lower()))\n",
    "\n",
    "data['text_clean'] = data['Text Tweet'].apply(lambda x:remove_punct\n",
    "                                              (remove_sites(remove_at_hash(x))))\n",
    "\n",
    "data[['Text Tweet', 'text_clean']]"
   ]
  },
  {
   "cell_type": "code",
   "execution_count": 7,
   "metadata": {},
   "outputs": [
    {
     "data": {
      "text/html": [
       "<div>\n",
       "<style scoped>\n",
       "    .dataframe tbody tr th:only-of-type {\n",
       "        vertical-align: middle;\n",
       "    }\n",
       "\n",
       "    .dataframe tbody tr th {\n",
       "        vertical-align: top;\n",
       "    }\n",
       "\n",
       "    .dataframe thead th {\n",
       "        text-align: right;\n",
       "    }\n",
       "</style>\n",
       "<table border=\"1\" class=\"dataframe\">\n",
       "  <thead>\n",
       "    <tr style=\"text-align: right;\">\n",
       "      <th></th>\n",
       "      <th>Id</th>\n",
       "      <th>Sentiment</th>\n",
       "      <th>Pasangan Calon</th>\n",
       "      <th>Text Tweet</th>\n",
       "      <th>text_clean</th>\n",
       "      <th>label</th>\n",
       "    </tr>\n",
       "  </thead>\n",
       "  <tbody>\n",
       "    <tr>\n",
       "      <th>0</th>\n",
       "      <td>1</td>\n",
       "      <td>negative</td>\n",
       "      <td>Agus-Sylvi</td>\n",
       "      <td>Banyak akun kloning seolah2 pendukung #agussil...</td>\n",
       "      <td>banyak akun kloning seolah2 pendukung agussilv...</td>\n",
       "      <td>0</td>\n",
       "    </tr>\n",
       "    <tr>\n",
       "      <th>1</th>\n",
       "      <td>2</td>\n",
       "      <td>negative</td>\n",
       "      <td>Agus-Sylvi</td>\n",
       "      <td>#agussilvy bicara apa kasihan yaa...lap itu ai...</td>\n",
       "      <td>agussilvy bicara apa kasihan yaa lap itu air m...</td>\n",
       "      <td>0</td>\n",
       "    </tr>\n",
       "    <tr>\n",
       "      <th>2</th>\n",
       "      <td>3</td>\n",
       "      <td>negative</td>\n",
       "      <td>Agus-Sylvi</td>\n",
       "      <td>Kalau aku sih gak nunggu hasil akhir QC tp lag...</td>\n",
       "      <td>kalau aku sih gak nunggu hasil akhir qc tp lag...</td>\n",
       "      <td>0</td>\n",
       "    </tr>\n",
       "    <tr>\n",
       "      <th>3</th>\n",
       "      <td>4</td>\n",
       "      <td>negative</td>\n",
       "      <td>Agus-Sylvi</td>\n",
       "      <td>Kasian oh kasian dengan peluru 1milyar untuk t...</td>\n",
       "      <td>kasian oh kasian dengan peluru 1milyar untuk t...</td>\n",
       "      <td>0</td>\n",
       "    </tr>\n",
       "    <tr>\n",
       "      <th>4</th>\n",
       "      <td>5</td>\n",
       "      <td>negative</td>\n",
       "      <td>Agus-Sylvi</td>\n",
       "      <td>Maaf ya pendukung #AgusSilvy..hayo dukung #Ani...</td>\n",
       "      <td>maaf ya pendukung agussilvy hayo dukung aniess...</td>\n",
       "      <td>0</td>\n",
       "    </tr>\n",
       "    <tr>\n",
       "      <th>...</th>\n",
       "      <td>...</td>\n",
       "      <td>...</td>\n",
       "      <td>...</td>\n",
       "      <td>...</td>\n",
       "      <td>...</td>\n",
       "      <td>...</td>\n",
       "    </tr>\n",
       "    <tr>\n",
       "      <th>895</th>\n",
       "      <td>896</td>\n",
       "      <td>positive</td>\n",
       "      <td>Anies-Sandi</td>\n",
       "      <td>Kali saja bpk @aniesbaswedan @sandiuno lihat, ...</td>\n",
       "      <td>kali saja bpk aniesbaswedan sandiuno lihat lag...</td>\n",
       "      <td>1</td>\n",
       "    </tr>\n",
       "    <tr>\n",
       "      <th>896</th>\n",
       "      <td>897</td>\n",
       "      <td>positive</td>\n",
       "      <td>Anies-Sandi</td>\n",
       "      <td>Kita harus dapat merangkul semua orang tanpa b...</td>\n",
       "      <td>kita harus dapat merangkul semua orang tanpa b...</td>\n",
       "      <td>1</td>\n",
       "    </tr>\n",
       "    <tr>\n",
       "      <th>897</th>\n",
       "      <td>898</td>\n",
       "      <td>positive</td>\n",
       "      <td>Anies-Sandi</td>\n",
       "      <td>Ini jagoanku dibidang digital &lt;Smiling Face Wi...</td>\n",
       "      <td>ini jagoanku dibidang digital smiling face wit...</td>\n",
       "      <td>1</td>\n",
       "    </tr>\n",
       "    <tr>\n",
       "      <th>898</th>\n",
       "      <td>899</td>\n",
       "      <td>positive</td>\n",
       "      <td>Anies-Sandi</td>\n",
       "      <td>#PesanBijak #OkeOce #GubernurGu3 ...</td>\n",
       "      <td>pesanbijak okeoce gubernurgu3</td>\n",
       "      <td>1</td>\n",
       "    </tr>\n",
       "    <tr>\n",
       "      <th>899</th>\n",
       "      <td>900</td>\n",
       "      <td>positive</td>\n",
       "      <td>Anies-Sandi</td>\n",
       "      <td>Sandiaga: Bangun Rumah DP 0% Lebih Simpel Diba...</td>\n",
       "      <td>sandiaga bangun rumah dp 0 lebih simpel diband...</td>\n",
       "      <td>1</td>\n",
       "    </tr>\n",
       "  </tbody>\n",
       "</table>\n",
       "<p>900 rows × 6 columns</p>\n",
       "</div>"
      ],
      "text/plain": [
       "      Id Sentiment Pasangan Calon  \\\n",
       "0      1  negative     Agus-Sylvi   \n",
       "1      2  negative     Agus-Sylvi   \n",
       "2      3  negative     Agus-Sylvi   \n",
       "3      4  negative     Agus-Sylvi   \n",
       "4      5  negative     Agus-Sylvi   \n",
       "..   ...       ...            ...   \n",
       "895  896  positive    Anies-Sandi   \n",
       "896  897  positive    Anies-Sandi   \n",
       "897  898  positive    Anies-Sandi   \n",
       "898  899  positive    Anies-Sandi   \n",
       "899  900  positive    Anies-Sandi   \n",
       "\n",
       "                                            Text Tweet  \\\n",
       "0    Banyak akun kloning seolah2 pendukung #agussil...   \n",
       "1    #agussilvy bicara apa kasihan yaa...lap itu ai...   \n",
       "2    Kalau aku sih gak nunggu hasil akhir QC tp lag...   \n",
       "3    Kasian oh kasian dengan peluru 1milyar untuk t...   \n",
       "4    Maaf ya pendukung #AgusSilvy..hayo dukung #Ani...   \n",
       "..                                                 ...   \n",
       "895  Kali saja bpk @aniesbaswedan @sandiuno lihat, ...   \n",
       "896  Kita harus dapat merangkul semua orang tanpa b...   \n",
       "897  Ini jagoanku dibidang digital <Smiling Face Wi...   \n",
       "898               #PesanBijak #OkeOce #GubernurGu3 ...   \n",
       "899  Sandiaga: Bangun Rumah DP 0% Lebih Simpel Diba...   \n",
       "\n",
       "                                            text_clean  label  \n",
       "0    banyak akun kloning seolah2 pendukung agussilv...      0  \n",
       "1    agussilvy bicara apa kasihan yaa lap itu air m...      0  \n",
       "2    kalau aku sih gak nunggu hasil akhir qc tp lag...      0  \n",
       "3    kasian oh kasian dengan peluru 1milyar untuk t...      0  \n",
       "4    maaf ya pendukung agussilvy hayo dukung aniess...      0  \n",
       "..                                                 ...    ...  \n",
       "895  kali saja bpk aniesbaswedan sandiuno lihat lag...      1  \n",
       "896  kita harus dapat merangkul semua orang tanpa b...      1  \n",
       "897  ini jagoanku dibidang digital smiling face wit...      1  \n",
       "898                      pesanbijak okeoce gubernurgu3      1  \n",
       "899  sandiaga bangun rumah dp 0 lebih simpel diband...      1  \n",
       "\n",
       "[900 rows x 6 columns]"
      ]
     },
     "execution_count": 7,
     "metadata": {},
     "output_type": "execute_result"
    }
   ],
   "source": [
    "le = preprocessing.LabelEncoder()\n",
    "le.fit(data['Sentiment'])\n",
    "data['label'] = le.transform(data['Sentiment'])\n",
    "data"
   ]
  },
  {
   "cell_type": "code",
   "execution_count": 8,
   "metadata": {},
   "outputs": [
    {
     "name": "stdout",
     "output_type": "stream",
     "text": [
      "banyak akun kloning seolah2 pendukung agussilvy mulai menyerang paslon aniessandi dengan opini dan argumen pmbenaran jangan terkecoh - 0\n"
     ]
    }
   ],
   "source": [
    "X = data['text_clean']\n",
    "y = data['label']\n",
    "\n",
    "X_train, X_test, y_train, y_test = train_test_split(X, y, test_size=0.2, random_state=25)\n",
    "print(X_train[0], '-', y_train[0])"
   ]
  },
  {
   "cell_type": "code",
   "execution_count": 9,
   "metadata": {},
   "outputs": [
    {
     "name": "stdout",
     "output_type": "stream",
     "text": [
      "  (0, 135)\t0.38049383153343985\n",
      "  (0, 832)\t0.38049383153343985\n",
      "  (0, 76)\t0.14088376987050208\n",
      "  (0, 499)\t0.23879531270513812\n",
      "  (0, 1228)\t0.2622676354957525\n",
      "  (0, 588)\t0.1547674288768651\n",
      "  (0, 2559)\t0.2505940383151723\n",
      "  (0, 2964)\t0.3422014853201948\n",
      "  (0, 1264)\t0.3580942449340597\n",
      "  (0, 3060)\t0.2656167928937046\n",
      "  (0, 179)\t0.15961652034726848\n",
      "  (0, 1098)\t0.20727603099504058\n",
      "  (0, 2249)\t0.17881621788589128\n",
      "  (0, 1687)\t0.20492486008107938\n",
      "  (0, 3055)\t0.1405238716726462\n"
     ]
    }
   ],
   "source": [
    "tfidf_vectorizer = TfidfVectorizer()\n",
    "tfidf_train_vectorizer = tfidf_vectorizer.fit_transform(X_train)\n",
    "tfidf_test_vectorizer = tfidf_vectorizer.transform(X_test)\n",
    "print(tfidf_train_vectorizer[0])"
   ]
  },
  {
   "cell_type": "code",
   "execution_count": 10,
   "metadata": {},
   "outputs": [
    {
     "name": "stdout",
     "output_type": "stream",
     "text": [
      "Parameter SVM: Kernel = linear, C = 1.0\n"
     ]
    }
   ],
   "source": [
    "pKernel = ['linear', 'rbf']\n",
    "pC = [0.1, 1.0, 10.0]\n",
    "ik = 0\n",
    "ic = 1\n",
    "fs = False\n",
    "\n",
    "print(f'Parameter SVM: Kernel = {pKernel[ik]}, C = {pC[ic]}')"
   ]
  },
  {
   "cell_type": "code",
   "execution_count": 11,
   "metadata": {},
   "outputs": [
    {
     "name": "stdout",
     "output_type": "stream",
     "text": [
      "Seleksi Fitur SVM: None\n"
     ]
    }
   ],
   "source": [
    "if fs:\n",
    " fs_label = \"ChiSquare\"\n",
    " ch2 = SelectKBest(chi2, k=900) # nilai k <= jml fitur normal, nilai k optimal dicari manual\n",
    " tfidf_train_vectors = ch2.fit_transform(tfidf_train_vectorizer, y_train)\n",
    " tfidf_test_vectors = ch2.transform(tfidf_test_vectorizer)\n",
    "else:\n",
    " fs_label = \"None\";\n",
    "print(f'Seleksi Fitur SVM: {fs_label}')"
   ]
  },
  {
   "cell_type": "code",
   "execution_count": 12,
   "metadata": {},
   "outputs": [
    {
     "name": "stdout",
     "output_type": "stream",
     "text": [
      "              precision    recall  f1-score   support\n",
      "\n",
      "           0       0.73      0.77      0.75        90\n",
      "           1       0.75      0.71      0.73        90\n",
      "\n",
      "    accuracy                           0.74       180\n",
      "   macro avg       0.74      0.74      0.74       180\n",
      "weighted avg       0.74      0.74      0.74       180\n",
      "\n",
      "Confusion Matrix (TN, FP, FN, TP):\n",
      "[[69 21]\n",
      " [26 64]]\n"
     ]
    }
   ],
   "source": [
    "svm_classifier = svm.SVC(kernel=pKernel[ik], C=pC[ic]) # kernel={linear, rbf}, C={0.1,1.0,10.0}\n",
    "svm_classifier.fit(tfidf_train_vectorizer, y_train) # training\n",
    "y_pred = svm_classifier.predict(tfidf_test_vectorizer) # testing\n",
    "print(classification_report(y_test,y_pred))\n",
    "cnf_matrix = confusion_matrix(y_test,y_pred)\n",
    "print('Confusion Matrix (TN, FP, FN, TP):')\n",
    "print(cnf_matrix)"
   ]
  },
  {
   "cell_type": "code",
   "execution_count": 13,
   "metadata": {},
   "outputs": [
    {
     "data": {
      "image/png": "[encoded data removed]",
      "text/plain": [
       "<Figure size 640x480 with 2 Axes>"
      ]
     },
     "metadata": {},
     "output_type": "display_data"
    }
   ],
   "source": [
    "group_names = ['TN','FP','FN','TP']\n",
    "group_counts = [\"{0:0.0f}\".format(value) for value in cnf_matrix.flatten()]\n",
    "labels = [f\"{v1}\\n{v2}\" for v1, v2 in zip(group_names,group_counts)]\n",
    "labels = np.asarray(labels).reshape(2,2)\n",
    "sns.heatmap(cnf_matrix, annot=labels, fmt='', cmap='Blues')\n",
    "plt.show()"
   ]
  },
  {
   "cell_type": "code",
   "execution_count": 14,
   "metadata": {},
   "outputs": [
    {
     "name": "stdout",
     "output_type": "stream",
     "text": [
      "Sel. Fitur\t: None\n",
      "Param. SVM\t: Kernel=linear, C=1.0\n",
      "Jml. Data\t: 720 (80%)\n",
      "Jml. Fitur\t: 3072\n",
      "Precision\t: 0.75\n",
      "Recall\t\t: 0.71\n",
      "Accuracy\t: 0.74\n",
      "F1-Score\t: 0.73\n"
     ]
    }
   ],
   "source": [
    "print(f'Sel. Fitur\\t: {fs_label}')\n",
    "print(f'Param. SVM\\t: Kernel={pKernel[ik]}, C={pC[ic]}')\n",
    "print(f'Jml. Data\\t: {tfidf_train_vectorizer.shape[0]} (80%)')\n",
    "print(f'Jml. Fitur\\t: {tfidf_train_vectorizer.shape[1]}')\n",
    "print('Precision\\t: {:.2}'.format(precision_score(y_test, y_pred)))\n",
    "print('Recall\\t\\t: {:.2}'.format(recall_score(y_test, y_pred)))\n",
    "print('Accuracy\\t: {:.2}'.format(accuracy_score(y_test, y_pred)))\n",
    "print('F1-Score\\t: {:.2}'.format(f1_score(y_test, y_pred)))"
   ]
  },
  {
   "cell_type": "code",
   "execution_count": 15,
   "metadata": {},
   "outputs": [
    {
     "name": "stdout",
     "output_type": "stream",
     "text": [
      "Nama Model\t: model-svm-None-linear-1.0.pickle\n"
     ]
    }
   ],
   "source": [
    "filename = f'model-svm-{fs_label}-{pKernel[ik]}-{pC[ic]}.pickle'\n",
    "pickle.dump(svm_classifier, open(filename, 'wb'))\n",
    "vectorizer = tfidf_vectorizer\n",
    "vectorizer.stop_words_ = None\n",
    "clf = svm_classifier\n",
    "with open(filename, 'wb') as fout:\n",
    " if fs:\n",
    "    pickle.dump((vectorizer, ch2, clf), fout)\n",
    " else:\n",
    "    pickle.dump((vectorizer, clf), fout)\n",
    "\n",
    "print(f'Nama Model\\t: {filename}')"
   ]
  },
  {
   "cell_type": "code",
   "execution_count": null,
   "metadata": {},
   "outputs": [],
   "source": []
  }
 ],
 "metadata": {
  "kernelspec": {
   "display_name": "Python 3",
   "language": "python",
   "name": "python3"
  },
  "language_info": {
   "codemirror_mode": {
    "name": "ipython",
    "version": 3
   },
   "file_extension": ".py",
   "mimetype": "text/x-python",
   "name": "python",
   "nbconvert_exporter": "python",
   "pygments_lexer": "ipython3",
   "version": "3.9.12"
  },
  "orig_nbformat": 4
 },
 "nbformat": 4,
 "nbformat_minor": 2
}
