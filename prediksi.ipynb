{
 "cells": [
  {
   "cell_type": "code",
   "execution_count": 6,
   "metadata": {},
   "outputs": [
    {
     "name": "stdout",
     "output_type": "stream",
     "text": [
      "[1]\n",
      "Teks\t\t:  Anies Ahok Berseteru\n",
      "Sentimen\t:  Tweet positif\n"
     ]
    }
   ],
   "source": [
    "import pickle\n",
    "filename = 'model-svm-None-linear-1.0.pickle'\n",
    "fs_label = filename[10:13]; # Chi\n",
    "text = ['Anies Ahok Berseteru']\n",
    "with open(filename, 'rb') as fin:\n",
    " if fs_label == \"Chi\":\n",
    "    vectorizer, ch2, clf = pickle.load(fin)\n",
    "    tfidf_text_vectors = vectorizer.transform(text)\n",
    "    tfidf_text_vectors = ch2.transform(tfidf_text_vectors)\n",
    " else:\n",
    "    vectorizer, clf = pickle.load(fin)\n",
    "    tfidf_text_vectors = vectorizer.transform(text)\n",
    "y_pred = clf.predict(tfidf_text_vectors)\n",
    "print(y_pred)\n",
    "if y_pred:\n",
    "    sentimen_svm = 'Tweet positif'\n",
    "else:\n",
    "    sentimen_svm = 'Tweet negatif'\n",
    "print('Teks\\t\\t: ', text[0])\n",
    "print('Sentimen\\t: ', sentimen_svm)"
   ]
  }
 ],
 "metadata": {
  "kernelspec": {
   "display_name": "Python 3",
   "language": "python",
   "name": "python3"
  },
  "language_info": {
   "codemirror_mode": {
    "name": "ipython",
    "version": 3
   },
   "file_extension": ".py",
   "mimetype": "text/x-python",
   "name": "python",
   "nbconvert_exporter": "python",
   "pygments_lexer": "ipython3",
   "version": "3.9.12"
  },
  "orig_nbformat": 4
 },
 "nbformat": 4,
 "nbformat_minor": 2
}
